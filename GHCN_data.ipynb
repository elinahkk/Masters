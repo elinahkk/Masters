{
 "cells": [
  {
   "cell_type": "code",
   "execution_count": 1,
   "metadata": {
    "collapsed": false
   },
   "outputs": [],
   "source": [
    "from __future__ import print_function, division\n",
    "import numpy as np\n",
    "import numpy.ma as ma\n",
    "import pandas as pd\n",
    "import matplotlib.pyplot as plt\n",
    "import math\n",
    "#import seaborn as sns\n",
    "import os\n",
    "import glob\n",
    "%matplotlib inline"
   ]
  },
  {
   "cell_type": "markdown",
   "metadata": {},
   "source": [
    "### 1. Read the station data downloaded from GHCN archive ###\n",
    "\n",
    "Data obtained from http://www.ncdc.noaa.gov/cdo-web/"
   ]
  },
  {
   "cell_type": "code",
   "execution_count": 2,
   "metadata": {
    "collapsed": true
   },
   "outputs": [],
   "source": [
    "def get_date(date_number):\n",
    "    \"\"\"\n",
    "    Turn the int64 value from the DATE of GHCN into a pd.datetime\n",
    "    \"\"\"\n",
    "    dstring = str(date_number)\n",
    "    return pd.datetime(int(dstring[0:4]),int(dstring[4:6]),int(dstring[6:8]))\n",
    "\n",
    "def get_df(fnm, var, no_missing = True):\n",
    "    \"\"\"\n",
    "    Create a dataframe for a single station, with a time index, for a single\n",
    "    variable of data given as a key word (e.g. PRECIP, TMAX, TMIN).\n",
    "    Requires file path and name (fnm).\n",
    "    no_missing is a Bool that optionally masks out values < -99 from the df.\n",
    "    \"\"\"\n",
    "    df = pd.read_csv(fnm)\n",
    "    dt_indx = [get_date(date) for date in df.DATE]\n",
    "    data_vals = df[var].values\n",
    "    if var is 'PRCP':\n",
    "        data_vals = data_vals / 10.  # This is to convert precip data to mm\n",
    "    if no_missing:\n",
    "        tmp_df = pd.DataFrame(data=data_vals,\n",
    "                              index=dt_indx,columns=[df.STATION[0][6:]])\n",
    "        mask = tmp_df > -99.  # A catchall value for missing data in GHCN\n",
    "        return tmp_df[mask]\n",
    "    else:\n",
    "        return pd.DataFrame(data=data_vals,\n",
    "                            index=dt_indx,columns=[df.STATION[0][6:]])\n",
    "\n",
    "def get_combined_df(fpth, var):\n",
    "    \"\"\"\n",
    "    From a given file path, and variable, extract data from all .csv files, and\n",
    "    place in a single dataframe object.\n",
    "    \"\"\"\n",
    "    flist = glob.glob(fpth)\n",
    "    df_dic = {}\n",
    "    for f in flist:\n",
    "        df_dic[f[5:]] = get_df(fnm = f, var = var, no_missing=True)\n",
    "    return pd.concat([df_dic[key] for key in df_dic.keys()],axis=1)"
   ]
  },
  {
   "cell_type": "markdown",
   "metadata": {},
   "source": [
    "Call the Get_combined() function to create dataframes out of all data in a folder."
   ]
  },
  {
   "cell_type": "code",
   "execution_count": 3,
   "metadata": {
    "collapsed": false
   },
   "outputs": [
    {
     "name": "stdout",
     "output_type": "stream",
     "text": [
      "CPU times: user 12.4 s, sys: 563 ms, total: 13 s\n",
      "Wall time: 13 s\n"
     ]
    }
   ],
   "source": [
    "%%time\n",
    "df_tmax = get_combined_df(fpth=\"Data/*.csv\",var=\"TMAX\")\n",
    "df_tmin = get_combined_df(fpth=\"Data/*.csv\",var=\"TMIN\")\n",
    "df_prcp = get_combined_df(fpth=\"Data/*.csv\",var=\"PRCP\")"
   ]
  },
  {
   "cell_type": "markdown",
   "metadata": {},
   "source": [
    "Plot time series of precipitation for all stations, and also accumulate the data and plot the average rainfall."
   ]
  },
  {
   "cell_type": "code",
   "execution_count": 4,
   "metadata": {
    "collapsed": false,
    "scrolled": true
   },
   "outputs": [
    {
     "data": {
      "text/plain": [
       "<matplotlib.text.Text at 0x1075e4dd0>"
      ]
     },
     "execution_count": 4,
     "metadata": {},
     "output_type": "execute_result"
    },
    {
     "data": {
      "image/png": "iVBORw0KGgoAAAANSUhEUgAAAXMAAAEKCAYAAADgl7WbAAAABHNCSVQICAgIfAhkiAAAAAlwSFlz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\n",
      "text/plain": [
       "<matplotlib.figure.Figure at 0x1029c6b10>"
      ]
     },
     "metadata": {},
     "output_type": "display_data"
    }
   ],
   "source": [
    "# Example of masking and accessing data from stations...\n",
    "#station = df_prcp.keys()[4]\n",
    "#plt.plot(df_prcp[station].index,df_prcp[station],'.',alpha=0.5)\n",
    "#plt.title(\"Station {0:s}\".format(station))"
   ]
  },
  {
   "cell_type": "code",
   "execution_count": 5,
   "metadata": {
    "collapsed": false
   },
   "outputs": [
    {
     "data": {
      "text/plain": [
       "2015-01-01   NaN\n",
       "2015-01-04   NaN\n",
       "2015-01-05   NaN\n",
       "2015-01-06   NaN\n",
       "2015-01-07   NaN\n",
       "2015-01-08   NaN\n",
       "2015-01-09   NaN\n",
       "2015-01-10   NaN\n",
       "2015-01-11   NaN\n",
       "2015-01-12   NaN\n",
       "2015-01-13   NaN\n",
       "2015-01-14   NaN\n",
       "2015-01-15   NaN\n",
       "2015-01-16   NaN\n",
       "2015-01-17   NaN\n",
       "2015-01-18   NaN\n",
       "2015-01-19   NaN\n",
       "2015-01-20   NaN\n",
       "2015-01-21     3\n",
       "2015-01-22     0\n",
       "2015-01-23   NaN\n",
       "2015-01-24   NaN\n",
       "2015-01-25   NaN\n",
       "2015-01-26   NaN\n",
       "2015-01-27   NaN\n",
       "2015-01-28   NaN\n",
       "2015-01-29   NaN\n",
       "2015-01-30   NaN\n",
       "2015-01-31   NaN\n",
       "2015-02-01   NaN\n",
       "              ..\n",
       "2015-08-02     0\n",
       "2015-08-03   NaN\n",
       "2015-08-04     0\n",
       "2015-08-05   NaN\n",
       "2015-08-06   NaN\n",
       "2015-08-07   NaN\n",
       "2015-08-08     1\n",
       "2015-08-09   NaN\n",
       "2015-08-10   NaN\n",
       "2015-08-11   NaN\n",
       "2015-08-12   NaN\n",
       "2015-08-13   NaN\n",
       "2015-08-14   NaN\n",
       "2015-08-15   NaN\n",
       "2015-08-16   NaN\n",
       "2015-08-17   NaN\n",
       "2015-08-18   NaN\n",
       "2015-08-19   NaN\n",
       "2015-08-20   NaN\n",
       "2015-08-21   NaN\n",
       "2015-08-22   NaN\n",
       "2015-08-23   NaN\n",
       "2015-08-24   NaN\n",
       "2015-08-25   NaN\n",
       "2015-08-26   NaN\n",
       "2015-08-27   NaN\n",
       "2015-08-28   NaN\n",
       "2015-08-29   NaN\n",
       "2015-08-30   NaN\n",
       "2015-08-31     0\n",
       "Name: KE000063740, dtype: float64"
      ]
     },
     "execution_count": 5,
     "metadata": {},
     "output_type": "execute_result"
    }
   ],
   "source": [
    "#df_prcp.KE000063740['2015']"
   ]
  },
  {
   "cell_type": "code",
   "execution_count": 6,
   "metadata": {
    "collapsed": false
   },
   "outputs": [
    {
     "data": {
      "text/plain": [
       "1961-12-27    112.3\n",
       "1970-04-21    101.9\n",
       "1980-11-07    311.9\n",
       "1990-05-09    207.0\n",
       "1990-05-13    268.0\n",
       "1991-02-03    193.0\n",
       "1991-11-17    156.0\n",
       "1991-11-26    116.0\n",
       "2001-02-01    182.4\n",
       "2004-01-14    182.1\n",
       "2004-05-04    172.2\n",
       "2005-08-01    180.6\n",
       "2008-05-31    101.1\n",
       "2010-02-13    351.5\n",
       "2011-07-18    135.6\n",
       "Name: KE000063740, dtype: float64"
      ]
     },
     "execution_count": 6,
     "metadata": {},
     "output_type": "execute_result"
    }
   ],
   "source": [
    "#df_prcp.KE000063740[df_prcp.KE000063740 > 100]"
   ]
  },
  {
   "cell_type": "markdown",
   "metadata": {},
   "source": [
    "### 2. Time series plots ###\n",
    "\n",
    "Daily Mean and SEM values:\n",
    "Mean uncertainty is given by SEM, where: $$ SEM = \\frac {\\sigma} {\\sqrt{n-1}}$$"
   ]
  },
  {
   "cell_type": "code",
   "execution_count": 7,
   "metadata": {
    "collapsed": false
   },
   "outputs": [],
   "source": [
    "def calc_SEM(data):\n",
    "    \"\"\"\n",
    "    Calculate Standard error of the mean. No nan's \n",
    "    should be in the input (numpy) array.\n",
    "    \"\"\"\n",
    "    return np.std(data)/np.sqrt(len(data) - 1)\n",
    "\n",
    "\n",
    "def gather_daily_stats(date, df):\n",
    "    \"\"\"\n",
    "    For a specified day, given by date, create a short array of \n",
    "    observed values (obs) excluding the NANs. Return the mean, \n",
    "    and SEM value.\n",
    "    Restrictions: more than one observation on a day, not a missing\n",
    "    value, less than 300 mm per day (which is erroneous).\n",
    "    \"\"\"\n",
    "    obs = np.array([df_prcp[key][day] for key in df_prcp.keys()])\n",
    "    obs = obs[(obs > -1) & (obs < 300)]\n",
    "    if len(obs) < 2:\n",
    "        return np.NAN, np.NAN\n",
    "    return np.mean(obs), calc_SEM(obs)"
   ]
  },
  {
   "cell_type": "code",
   "execution_count": 8,
   "metadata": {
    "collapsed": false
   },
   "outputs": [
    {
     "name": "stderr",
     "output_type": "stream",
     "text": [
      "//anaconda/lib/python2.7/site-packages/numpy/core/_methods.py:59: RuntimeWarning: Mean of empty slice.\n",
      "  warnings.warn(\"Mean of empty slice.\", RuntimeWarning)\n",
      "//anaconda/lib/python2.7/site-packages/numpy/core/_methods.py:83: RuntimeWarning: Degrees of freedom <= 0 for slice\n",
      "  warnings.warn(\"Degrees of freedom <= 0 for slice\", RuntimeWarning)\n"
     ]
    }
   ],
   "source": [
    "# Create an accumulated time series (with SEM uncertainty values)\n",
    "means = []\n",
    "sems = []\n",
    "for day in df_prcp.index:\n",
    "    tmp_mean, tmp_sem = gather_daily_stats(date=day, df=df_prcp)\n",
    "    means.append(tmp_mean)\n",
    "    sems.append(tmp_sem)\n",
    "means = np.array(means)\n",
    "sems = np.array(sems)\n",
    "df_prcp['Accumulated']=pd.Series(means,index=df_prcp.index)\n",
    "df_prcp['Acc_SEM']=pd.Series(sems,index=df_prcp.index)"
   ]
  },
  {
   "cell_type": "code",
   "execution_count": 9,
   "metadata": {
    "collapsed": false
   },
   "outputs": [
    {
     "data": {
      "text/plain": [
       "2.3142857142857141"
      ]
     },
     "execution_count": 9,
     "metadata": {},
     "output_type": "execute_result"
    }
   ],
   "source": [
    "daily_ts = plt.figure(dpi=72)\n",
    "daily_ts.set_size_inches(10,5)      # Specify the figure size\n",
    "ax1 = daily_ts.add_subplot(111)     # Add an axis frame object to the plot (i.e. a pannel)\n",
    "\n",
    "ax1.errorbar(df_prcp.index, df_prcp.Accumulated,\n",
    "             yerr=df_prcp.Acc_SEM, alpha=0.2, fmt=',')\n",
    "ax1.set_ylim(0,max(df_prcp.Accumulated))\n",
    "plt.xlim('1950-01-01','2015-08-31')\n",
    "plt.title(\"Mean East African Precipitation\")\n",
    "plt.ylabel(\"Precipitation (mm day$^{-1}$)\")\n",
    "plt.xlabel(\"Year\")\n",
    "plt.grid(True)\n",
    "plt.show(daily_ts)"
   ]
  },
  {
   "cell_type": "code",
   "execution_count": 10,
   "metadata": {
    "collapsed": false
   },
   "outputs": [
    {
     "data": {
      "text/plain": [
       "<matplotlib.text.Text at 0x1081fa890>"
      ]
     },
     "execution_count": 10,
     "metadata": {},
     "output_type": "execute_result"
    },
    {
     "data": {
      "image/png": "iVBORw0KGgoAAAANSUhEUgAAAYcAAAEbCAYAAAAxukhGAAAABHNCSVQICAgIfAhkiAAAAAlwSFlz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\nQmCC\n",
      "text/plain": [
       "<matplotlib.figure.Figure at 0x10849ae10>"
      ]
     },
     "metadata": {},
     "output_type": "display_data"
    }
   ],
   "source": [
    "import seaborn as sns"
   ]
  },
  {
   "cell_type": "code",
   "execution_count": 11,
   "metadata": {
    "collapsed": false
   },
   "outputs": [],
   "source": [
    "# N.b. the KDE (kernel density estimate) is Gaussian - which is not true\n",
    "# for precip data (log or power law data)...\n",
    "mask = df_prcp.Accumulated > 0.0\n",
    "sns.distplot(df_prcp.Accumulated[mask],bins=1000, norm_hist = True,\n",
    "             kde=False,color = 'r')\n",
    "sns.kdeplot(df_prcp.Accumulated[mask],shade=True,kernel='cos',cumulative=False,color='b')\n",
    "plt.xlim(0,25)#max(df_prcp.Accumulated))\n",
    "plt.xlabel('Precip. (mm day$^{-1}$)')\n",
    "plt.ylabel('Density (0-1)')"
   ]
  },
  {
   "cell_type": "code",
   "execution_count": 12,
   "metadata": {
    "collapsed": true
   },
   "outputs": [],
   "source": [
    "sns.kdeplot? # Hot tip - look in SEABORN for statistical plots and help..."
   ]
  },
  {
<<<<<<< HEAD
   "cell_type": "code",
   "execution_count": 13,
   "metadata": {
    "collapsed": false
   },
   "outputs": [
    {
     "data": {
      "text/plain": [
       "<matplotlib.text.Text at 0x1029c66d0>"
      ]
     },
     "execution_count": 13,
     "metadata": {},
     "output_type": "execute_result"
    },
    {
     "data": {
      "image/png": "iVBORw0KGgoAAAANSUhEUgAAAYcAAAEZCAYAAAB8culNAAAABHNCSVQICAgIfAhkiAAAAAlwSFlz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\nOI7j1ODCwXEcx6nBhYPjOI5Tw/8D0zsi9kefCz4AAAAASUVORK5CYII=\n",
      "text/plain": [
       "<matplotlib.figure.Figure at 0x1029d9390>"
      ]
     },
     "metadata": {},
     "output_type": "display_data"
    }
   ],
=======
   "cell_type": "markdown",
   "metadata": {},
>>>>>>> 79795c4422bc07fb68e632db9304ac7c658df37e
   "source": [
    "Tasks:\n",
    "\n",
    "    1. find out why the later part of the data has high variability\n",
    "    2. make sure you are happy/add any logical restrictions to improve the data quality in Accumulated dataset\n",
    "    3. Caclulate population statistics, histrogram, density plots (PDF, CDF), and fits to the population. Try several fit approaches, and show which is best.\n",
    "    4. Use the CDF (or a percentile function) to determine the key (IQR, median, tails etc) of the population\n",
    "    5. (hard) try to fit to the population. Reccomend trying a nth order polyfit using np.polyfit()"
   ]
  },
  {
   "cell_type": "markdown",
   "metadata": {},
   "source": [
    "### 3. Seasonality ###\n",
    "Calculate the DOY mean over the data-period (climatology)."
   ]
  },
  {
   "cell_type": "code",
   "execution_count": null,
   "metadata": {
<<<<<<< HEAD
    "collapsed": true
   },
   "outputs": [],
   "source": []
  },
  {
   "cell_type": "code",
   "execution_count": 14,
   "metadata": {
=======
>>>>>>> 79795c4422bc07fb68e632db9304ac7c658df37e
    "collapsed": false,
    "scrolled": true
   },
   "outputs": [],
   "source": [
    "doy_mean=[]\n",
    "doy_sem =[]\n",
    "doy_csum=[]\n",
    "for doy in range(366):\n",
    "    index = df_prcp.index.dayofyear == doy+1 \n",
    "    doy_mean.append(np.nanmean(df_prcp[index]))\n",
    "    doy_sem.append(np.nanstd(df_prcp[index])/np.sqrt(len(df_prcp[index])-1))  "
   ]
  },
  {
   "cell_type": "code",
   "execution_count": 15,
   "metadata": {
    "collapsed": false,
    "scrolled": false
   },
   "outputs": [
    {
     "data": {
      "text/plain": [
       "<matplotlib.text.Text at 0x10849af90>"
      ]
     },
     "execution_count": 15,
     "metadata": {},
     "output_type": "execute_result"
    },
    {
     "data": {
      "image/png": "iVBORw0KGgoAAAANSUhEUgAAAXsAAAEbCAYAAAA7yiRRAAAABHNCSVQICAgIfAhkiAAAAAlwSFlz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\nsI+IaIEE+4iIFkiwj4hogQT7iIgW+A0NJ5hXeG6ZHgAAAABJRU5ErkJggg==\n",
      "text/plain": [
       "<matplotlib.figure.Figure at 0x10757fe10>"
      ]
     },
     "metadata": {},
     "output_type": "display_data"
    }
   ],
   "source": [
    "plt.errorbar(range(366),doy_mean,xerr=None, yerr=doy_sem, alpha=0.6)\n",
    "plt.xlim(0,max(range(366)))\n",
    "plt.title(\"East Africa DOY Mean ($\\mu$) Rainfall\")\n",
    "plt.ylabel(\"Precipitation (mm)\")\n",
    "plt.xlabel(\"Day of Year\")"
   ]
  },
  {
   "cell_type": "markdown",
   "metadata": {},
   "source": [
    "Anomaly\n",
    "\n",
    "Use the seasonal DOY mean to calculate deviations (anomaly) from the daily mean"
   ]
  },
  {
   "cell_type": "code",
   "execution_count": 17,
   "metadata": {
    "collapsed": false
   },
   "outputs": [],
   "source": [
    "##Anomalies = Observation - Climatology\n",
    "anomalies = []\n",
    "for n,day in enumerate(df_prcp.index):\n",
    "    #print(\"Index: {0} Date: {1} Value: {0:3.3f}\".format(n,df_prcp.index[n].date(),day[0]))\n",
    "    doyi = df_prcp.index[n].dayofyear -1 # Create an index to call doy_mean\n",
    "    #print(n, doy_mean[doyi])\n",
    "    #anomalies.append(day - doy_mean[doyi])"
   ]
  },
  {
   "cell_type": "code",
   "execution_count": null,
   "metadata": {
    "collapsed": false
   },
   "outputs": [],
   "source": [
    "anomalies"
   ]
  },
  {
   "cell_type": "markdown",
   "metadata": {},
   "source": [
    "Correlation Matrix"
   ]
  },
  {
   "cell_type": "code",
   "execution_count": 23,
   "metadata": {
    "collapsed": false
   },
   "outputs": [
    {
     "data": {
      "text/html": [
       "<div>\n",
       "<table border=\"1\" class=\"dataframe\">\n",
       "  <thead>\n",
       "    <tr style=\"text-align: right;\">\n",
       "      <th></th>\n",
       "      <th>ET000063331</th>\n",
       "      <th>KEM00063799</th>\n",
       "      <th>ET000063402</th>\n",
       "      <th>KE000063661</th>\n",
       "      <th>KE000063740</th>\n",
       "      <th>KE000063612</th>\n",
       "      <th>KEM00063741</th>\n",
       "      <th>ET000063450</th>\n",
       "      <th>ET000063471</th>\n",
       "      <th>TZ000063894</th>\n",
       "      <th>...</th>\n",
       "      <th>KE000063619</th>\n",
       "      <th>TZ000063756</th>\n",
       "      <th>SU000062941</th>\n",
       "      <th>KEM00063686</th>\n",
       "      <th>KE000063820</th>\n",
       "      <th>RWM00064387</th>\n",
       "      <th>KE000063723</th>\n",
       "      <th>KE000063624</th>\n",
       "      <th>Accumulated</th>\n",
       "      <th>DailyMean</th>\n",
       "    </tr>\n",
       "  </thead>\n",
       "  <tbody>\n",
       "    <tr>\n",
       "      <th>ET000063331</th>\n",
       "      <td>1.000000</td>\n",
       "      <td>0.013189</td>\n",
       "      <td>0.137541</td>\n",
       "      <td>0.027972</td>\n",
       "      <td>-0.048330</td>\n",
       "      <td>-0.004076</td>\n",
       "      <td>-0.089968</td>\n",
       "      <td>0.165515</td>\n",
       "      <td>0.090720</td>\n",
       "      <td>-0.037489</td>\n",
       "      <td>...</td>\n",
       "      <td>NaN</td>\n",
       "      <td>-0.079837</td>\n",
       "      <td>0.069454</td>\n",
       "      <td>0.072099</td>\n",
       "      <td>0.003577</td>\n",
       "      <td>-0.026476</td>\n",
       "      <td>-0.027603</td>\n",
       "      <td>-0.038117</td>\n",
       "      <td>0.429189</td>\n",
       "      <td>0.321761</td>\n",
       "    </tr>\n",
       "    <tr>\n",
       "      <th>KEM00063799</th>\n",
       "      <td>0.013189</td>\n",
       "      <td>1.000000</td>\n",
       "      <td>0.027534</td>\n",
       "      <td>0.013107</td>\n",
       "      <td>0.017628</td>\n",
       "      <td>0.029739</td>\n",
       "      <td>0.058509</td>\n",
       "      <td>0.014750</td>\n",
       "      <td>0.025589</td>\n",
       "      <td>0.095574</td>\n",
       "      <td>...</td>\n",
       "      <td>NaN</td>\n",
       "      <td>0.008945</td>\n",
       "      <td>0.044520</td>\n",
       "      <td>0.037598</td>\n",
       "      <td>0.190247</td>\n",
       "      <td>0.010053</td>\n",
       "      <td>0.022872</td>\n",
       "      <td>0.036502</td>\n",
       "      <td>0.591892</td>\n",
       "      <td>0.414985</td>\n",
       "    </tr>\n",
       "    <tr>\n",
       "      <th>ET000063402</th>\n",
       "      <td>0.137541</td>\n",
       "      <td>0.027534</td>\n",
       "      <td>1.000000</td>\n",
       "      <td>0.027246</td>\n",
       "      <td>-0.031112</td>\n",
       "      <td>0.027558</td>\n",
       "      <td>-0.012083</td>\n",
       "      <td>0.142761</td>\n",
       "      <td>0.084465</td>\n",
       "      <td>-0.011826</td>\n",
       "      <td>...</td>\n",
       "      <td>NaN</td>\n",
       "      <td>-0.023525</td>\n",
       "      <td>0.101591</td>\n",
       "      <td>0.078284</td>\n",
       "      <td>0.030423</td>\n",
       "      <td>-0.020223</td>\n",
       "      <td>-0.017723</td>\n",
       "      <td>0.022280</td>\n",
       "      <td>0.430754</td>\n",
       "      <td>0.408345</td>\n",
       "    </tr>\n",
       "    <tr>\n",
       "      <th>KE000063661</th>\n",
       "      <td>0.027972</td>\n",
       "      <td>0.013107</td>\n",
       "      <td>0.027246</td>\n",
       "      <td>1.000000</td>\n",
       "      <td>0.039609</td>\n",
       "      <td>0.054337</td>\n",
       "      <td>0.108188</td>\n",
       "      <td>0.038700</td>\n",
       "      <td>0.043580</td>\n",
       "      <td>0.039754</td>\n",
       "      <td>...</td>\n",
       "      <td>NaN</td>\n",
       "      <td>0.076275</td>\n",
       "      <td>0.023899</td>\n",
       "      <td>0.144486</td>\n",
       "      <td>0.011645</td>\n",
       "      <td>0.020585</td>\n",
       "      <td>0.018957</td>\n",
       "      <td>0.035945</td>\n",
       "      <td>0.461704</td>\n",
       "      <td>0.382358</td>\n",
       "    </tr>\n",
       "    <tr>\n",
       "      <th>KE000063740</th>\n",
       "      <td>-0.048330</td>\n",
       "      <td>0.017628</td>\n",
       "      <td>-0.031112</td>\n",
       "      <td>0.039609</td>\n",
       "      <td>1.000000</td>\n",
       "      <td>0.030429</td>\n",
       "      <td>0.197129</td>\n",
       "      <td>-0.031661</td>\n",
       "      <td>0.017088</td>\n",
       "      <td>0.079381</td>\n",
       "      <td>...</td>\n",
       "      <td>NaN</td>\n",
       "      <td>0.123871</td>\n",
       "      <td>0.000796</td>\n",
       "      <td>0.085107</td>\n",
       "      <td>0.056486</td>\n",
       "      <td>0.015104</td>\n",
       "      <td>0.117653</td>\n",
       "      <td>0.055069</td>\n",
       "      <td>0.368649</td>\n",
       "      <td>0.463654</td>\n",
       "    </tr>\n",
       "    <tr>\n",
       "      <th>KE000063612</th>\n",
       "      <td>-0.004076</td>\n",
       "      <td>0.029739</td>\n",
       "      <td>0.027558</td>\n",
       "      <td>0.054337</td>\n",
       "      <td>0.030429</td>\n",
       "      <td>1.000000</td>\n",
       "      <td>0.029413</td>\n",
       "      <td>0.008072</td>\n",
       "      <td>0.005231</td>\n",
       "      <td>0.016282</td>\n",
       "      <td>...</td>\n",
       "      <td>NaN</td>\n",
       "      <td>0.039412</td>\n",
       "      <td>0.000541</td>\n",
       "      <td>0.091737</td>\n",
       "      <td>0.021765</td>\n",
       "      <td>0.010813</td>\n",
       "      <td>0.027103</td>\n",
       "      <td>0.016131</td>\n",
       "      <td>0.240736</td>\n",
       "      <td>0.362673</td>\n",
       "    </tr>\n",
       "    <tr>\n",
       "      <th>KEM00063741</th>\n",
       "      <td>-0.089968</td>\n",
       "      <td>0.058509</td>\n",
       "      <td>-0.012083</td>\n",
       "      <td>0.108188</td>\n",
       "      <td>0.197129</td>\n",
       "      <td>0.029413</td>\n",
       "      <td>1.000000</td>\n",
       "      <td>-0.045662</td>\n",
       "      <td>0.061123</td>\n",
       "      <td>0.075006</td>\n",
       "      <td>...</td>\n",
       "      <td>NaN</td>\n",
       "      <td>0.084568</td>\n",
       "      <td>0.021385</td>\n",
       "      <td>0.116994</td>\n",
       "      <td>0.068244</td>\n",
       "      <td>0.003379</td>\n",
       "      <td>0.048197</td>\n",
       "      <td>0.042733</td>\n",
       "      <td>0.460853</td>\n",
       "      <td>0.509591</td>\n",
       "    </tr>\n",
       "    <tr>\n",
       "      <th>ET000063450</th>\n",
       "      <td>0.165515</td>\n",
       "      <td>0.014750</td>\n",
       "      <td>0.142761</td>\n",
       "      <td>0.038700</td>\n",
       "      <td>-0.031661</td>\n",
       "      <td>0.008072</td>\n",
       "      <td>-0.045662</td>\n",
       "      <td>1.000000</td>\n",
       "      <td>0.153815</td>\n",
       "      <td>-0.022080</td>\n",
       "      <td>...</td>\n",
       "      <td>NaN</td>\n",
       "      <td>-0.033686</td>\n",
       "      <td>0.067576</td>\n",
       "      <td>0.077284</td>\n",
       "      <td>-0.004109</td>\n",
       "      <td>-0.008122</td>\n",
       "      <td>-0.015818</td>\n",
       "      <td>0.015591</td>\n",
       "      <td>0.326506</td>\n",
       "      <td>0.346054</td>\n",
       "    </tr>\n",
       "    <tr>\n",
       "      <th>ET000063471</th>\n",
       "      <td>0.090720</td>\n",
       "      <td>0.025589</td>\n",
       "      <td>0.084465</td>\n",
       "      <td>0.043580</td>\n",
       "      <td>0.017088</td>\n",
       "      <td>0.005231</td>\n",
       "      <td>0.061123</td>\n",
       "      <td>0.153815</td>\n",
       "      <td>1.000000</td>\n",
       "      <td>0.038692</td>\n",
       "      <td>...</td>\n",
       "      <td>NaN</td>\n",
       "      <td>0.011082</td>\n",
       "      <td>0.036199</td>\n",
       "      <td>0.041549</td>\n",
       "      <td>0.028561</td>\n",
       "      <td>0.045536</td>\n",
       "      <td>0.023914</td>\n",
       "      <td>0.044875</td>\n",
       "      <td>0.294121</td>\n",
       "      <td>0.321132</td>\n",
       "    </tr>\n",
       "    <tr>\n",
       "      <th>TZ000063894</th>\n",
       "      <td>-0.037489</td>\n",
       "      <td>0.095574</td>\n",
       "      <td>-0.011826</td>\n",
       "      <td>0.039754</td>\n",
       "      <td>0.079381</td>\n",
       "      <td>0.016282</td>\n",
       "      <td>0.075006</td>\n",
       "      <td>-0.022080</td>\n",
       "      <td>0.038692</td>\n",
       "      <td>1.000000</td>\n",
       "      <td>...</td>\n",
       "      <td>NaN</td>\n",
       "      <td>0.049258</td>\n",
       "      <td>-0.002515</td>\n",
       "      <td>0.022086</td>\n",
       "      <td>0.114124</td>\n",
       "      <td>0.021807</td>\n",
       "      <td>0.047445</td>\n",
       "      <td>0.051279</td>\n",
       "      <td>0.420255</td>\n",
       "      <td>0.495813</td>\n",
       "    </tr>\n",
       "    <tr>\n",
       "      <th>TZ000063832</th>\n",
       "      <td>-0.116261</td>\n",
       "      <td>-0.010894</td>\n",
       "      <td>-0.060317</td>\n",
       "      <td>0.027551</td>\n",
       "      <td>0.111834</td>\n",
       "      <td>0.055207</td>\n",
       "      <td>0.107291</td>\n",
       "      <td>-0.085461</td>\n",
       "      <td>-0.022021</td>\n",
       "      <td>0.073256</td>\n",
       "      <td>...</td>\n",
       "      <td>NaN</td>\n",
       "      <td>0.177948</td>\n",
       "      <td>-0.046924</td>\n",
       "      <td>0.043520</td>\n",
       "      <td>-0.018102</td>\n",
       "      <td>0.069104</td>\n",
       "      <td>0.056316</td>\n",
       "      <td>0.018951</td>\n",
       "      <td>0.213119</td>\n",
       "      <td>0.321742</td>\n",
       "    </tr>\n",
       "    <tr>\n",
       "      <th>ET000063403</th>\n",
       "      <td>0.175840</td>\n",
       "      <td>-0.000799</td>\n",
       "      <td>0.191923</td>\n",
       "      <td>0.021052</td>\n",
       "      <td>-0.054162</td>\n",
       "      <td>-0.024828</td>\n",
       "      <td>-0.071049</td>\n",
       "      <td>0.111457</td>\n",
       "      <td>0.040229</td>\n",
       "      <td>-0.025271</td>\n",
       "      <td>...</td>\n",
       "      <td>NaN</td>\n",
       "      <td>-0.072491</td>\n",
       "      <td>0.082059</td>\n",
       "      <td>0.017773</td>\n",
       "      <td>0.035645</td>\n",
       "      <td>-0.026959</td>\n",
       "      <td>-0.022813</td>\n",
       "      <td>-0.010249</td>\n",
       "      <td>0.316119</td>\n",
       "      <td>0.383349</td>\n",
       "    </tr>\n",
       "    <tr>\n",
       "      <th>TZ000063862</th>\n",
       "      <td>-0.060086</td>\n",
       "      <td>-0.019004</td>\n",
       "      <td>-0.028902</td>\n",
       "      <td>0.027742</td>\n",
       "      <td>0.047898</td>\n",
       "      <td>0.048672</td>\n",
       "      <td>0.030252</td>\n",
       "      <td>-0.038867</td>\n",
       "      <td>-0.001213</td>\n",
       "      <td>0.098759</td>\n",
       "      <td>...</td>\n",
       "      <td>NaN</td>\n",
       "      <td>0.047991</td>\n",
       "      <td>-0.039818</td>\n",
       "      <td>0.093991</td>\n",
       "      <td>0.003351</td>\n",
       "      <td>0.052927</td>\n",
       "      <td>-0.010388</td>\n",
       "      <td>-0.009809</td>\n",
       "      <td>0.371897</td>\n",
       "      <td>0.551196</td>\n",
       "    </tr>\n",
       "    <tr>\n",
       "      <th>KE000063619</th>\n",
       "      <td>NaN</td>\n",
       "      <td>NaN</td>\n",
       "      <td>NaN</td>\n",
       "      <td>NaN</td>\n",
       "      <td>NaN</td>\n",
       "      <td>NaN</td>\n",
       "      <td>NaN</td>\n",
       "      <td>NaN</td>\n",
       "      <td>NaN</td>\n",
       "      <td>NaN</td>\n",
       "      <td>...</td>\n",
       "      <td>1</td>\n",
       "      <td>NaN</td>\n",
       "      <td>NaN</td>\n",
       "      <td>NaN</td>\n",
       "      <td>NaN</td>\n",
       "      <td>NaN</td>\n",
       "      <td>NaN</td>\n",
       "      <td>NaN</td>\n",
       "      <td>1.000000</td>\n",
       "      <td>1.000000</td>\n",
       "    </tr>\n",
       "    <tr>\n",
       "      <th>TZ000063756</th>\n",
       "      <td>-0.079837</td>\n",
       "      <td>0.008945</td>\n",
       "      <td>-0.023525</td>\n",
       "      <td>0.076275</td>\n",
       "      <td>0.123871</td>\n",
       "      <td>0.039412</td>\n",
       "      <td>0.084568</td>\n",
       "      <td>-0.033686</td>\n",
       "      <td>0.011082</td>\n",
       "      <td>0.049258</td>\n",
       "      <td>...</td>\n",
       "      <td>NaN</td>\n",
       "      <td>1.000000</td>\n",
       "      <td>-0.002265</td>\n",
       "      <td>0.047957</td>\n",
       "      <td>0.036902</td>\n",
       "      <td>0.060791</td>\n",
       "      <td>0.091329</td>\n",
       "      <td>0.067489</td>\n",
       "      <td>0.248203</td>\n",
       "      <td>0.423631</td>\n",
       "    </tr>\n",
       "    <tr>\n",
       "      <th>SU000062941</th>\n",
       "      <td>0.069454</td>\n",
       "      <td>0.044520</td>\n",
       "      <td>0.101591</td>\n",
       "      <td>0.023899</td>\n",
       "      <td>0.000796</td>\n",
       "      <td>0.000541</td>\n",
       "      <td>0.021385</td>\n",
       "      <td>0.067576</td>\n",
       "      <td>0.036199</td>\n",
       "      <td>-0.002515</td>\n",
       "      <td>...</td>\n",
       "      <td>NaN</td>\n",
       "      <td>-0.002265</td>\n",
       "      <td>1.000000</td>\n",
       "      <td>0.039242</td>\n",
       "      <td>0.019527</td>\n",
       "      <td>-0.007565</td>\n",
       "      <td>0.006747</td>\n",
       "      <td>0.011814</td>\n",
       "      <td>0.202862</td>\n",
       "      <td>0.299906</td>\n",
       "    </tr>\n",
       "    <tr>\n",
       "      <th>KEM00063686</th>\n",
       "      <td>0.072099</td>\n",
       "      <td>0.037598</td>\n",
       "      <td>0.078284</td>\n",
       "      <td>0.144486</td>\n",
       "      <td>0.085107</td>\n",
       "      <td>0.091737</td>\n",
       "      <td>0.116994</td>\n",
       "      <td>0.077284</td>\n",
       "      <td>0.041549</td>\n",
       "      <td>0.022086</td>\n",
       "      <td>...</td>\n",
       "      <td>NaN</td>\n",
       "      <td>0.047957</td>\n",
       "      <td>0.039242</td>\n",
       "      <td>1.000000</td>\n",
       "      <td>0.119122</td>\n",
       "      <td>0.015050</td>\n",
       "      <td>0.030222</td>\n",
       "      <td>0.072779</td>\n",
       "      <td>0.297064</td>\n",
       "      <td>0.420408</td>\n",
       "    </tr>\n",
       "    <tr>\n",
       "      <th>KE000063820</th>\n",
       "      <td>0.003577</td>\n",
       "      <td>0.190247</td>\n",
       "      <td>0.030423</td>\n",
       "      <td>0.011645</td>\n",
       "      <td>0.056486</td>\n",
       "      <td>0.021765</td>\n",
       "      <td>0.068244</td>\n",
       "      <td>-0.004109</td>\n",
       "      <td>0.028561</td>\n",
       "      <td>0.114124</td>\n",
       "      <td>...</td>\n",
       "      <td>NaN</td>\n",
       "      <td>0.036902</td>\n",
       "      <td>0.019527</td>\n",
       "      <td>0.119122</td>\n",
       "      <td>1.000000</td>\n",
       "      <td>0.033750</td>\n",
       "      <td>0.075455</td>\n",
       "      <td>0.102230</td>\n",
       "      <td>0.238976</td>\n",
       "      <td>0.348618</td>\n",
       "    </tr>\n",
       "    <tr>\n",
       "      <th>RWM00064387</th>\n",
       "      <td>-0.026476</td>\n",
       "      <td>0.010053</td>\n",
       "      <td>-0.020223</td>\n",
       "      <td>0.020585</td>\n",
       "      <td>0.015104</td>\n",
       "      <td>0.010813</td>\n",
       "      <td>0.003379</td>\n",
       "      <td>-0.008122</td>\n",
       "      <td>0.045536</td>\n",
       "      <td>0.021807</td>\n",
       "      <td>...</td>\n",
       "      <td>NaN</td>\n",
       "      <td>0.060791</td>\n",
       "      <td>-0.007565</td>\n",
       "      <td>0.015050</td>\n",
       "      <td>0.033750</td>\n",
       "      <td>1.000000</td>\n",
       "      <td>0.059783</td>\n",
       "      <td>0.042525</td>\n",
       "      <td>0.167150</td>\n",
       "      <td>0.488712</td>\n",
       "    </tr>\n",
       "    <tr>\n",
       "      <th>KE000063723</th>\n",
       "      <td>-0.027603</td>\n",
       "      <td>0.022872</td>\n",
       "      <td>-0.017723</td>\n",
       "      <td>0.018957</td>\n",
       "      <td>0.117653</td>\n",
       "      <td>0.027103</td>\n",
       "      <td>0.048197</td>\n",
       "      <td>-0.015818</td>\n",
       "      <td>0.023914</td>\n",
       "      <td>0.047445</td>\n",
       "      <td>...</td>\n",
       "      <td>NaN</td>\n",
       "      <td>0.091329</td>\n",
       "      <td>0.006747</td>\n",
       "      <td>0.030222</td>\n",
       "      <td>0.075455</td>\n",
       "      <td>0.059783</td>\n",
       "      <td>1.000000</td>\n",
       "      <td>0.089762</td>\n",
       "      <td>0.136873</td>\n",
       "      <td>0.454087</td>\n",
       "    </tr>\n",
       "    <tr>\n",
       "      <th>KE000063624</th>\n",
       "      <td>-0.038117</td>\n",
       "      <td>0.036502</td>\n",
       "      <td>0.022280</td>\n",
       "      <td>0.035945</td>\n",
       "      <td>0.055069</td>\n",
       "      <td>0.016131</td>\n",
       "      <td>0.042733</td>\n",
       "      <td>0.015591</td>\n",
       "      <td>0.044875</td>\n",
       "      <td>0.051279</td>\n",
       "      <td>...</td>\n",
       "      <td>NaN</td>\n",
       "      <td>0.067489</td>\n",
       "      <td>0.011814</td>\n",
       "      <td>0.072779</td>\n",
       "      <td>0.102230</td>\n",
       "      <td>0.042525</td>\n",
       "      <td>0.089762</td>\n",
       "      <td>1.000000</td>\n",
       "      <td>0.095186</td>\n",
       "      <td>0.262610</td>\n",
       "    </tr>\n",
       "    <tr>\n",
       "      <th>Accumulated</th>\n",
       "      <td>0.429189</td>\n",
       "      <td>0.591892</td>\n",
       "      <td>0.430754</td>\n",
       "      <td>0.461704</td>\n",
       "      <td>0.368649</td>\n",
       "      <td>0.240736</td>\n",
       "      <td>0.460853</td>\n",
       "      <td>0.326506</td>\n",
       "      <td>0.294121</td>\n",
       "      <td>0.420255</td>\n",
       "      <td>...</td>\n",
       "      <td>1</td>\n",
       "      <td>0.248203</td>\n",
       "      <td>0.202862</td>\n",
       "      <td>0.297064</td>\n",
       "      <td>0.238976</td>\n",
       "      <td>0.167150</td>\n",
       "      <td>0.136873</td>\n",
       "      <td>0.095186</td>\n",
       "      <td>1.000000</td>\n",
       "      <td>0.651087</td>\n",
       "    </tr>\n",
       "    <tr>\n",
       "      <th>DailyMean</th>\n",
       "      <td>0.321761</td>\n",
       "      <td>0.414985</td>\n",
       "      <td>0.408345</td>\n",
       "      <td>0.382358</td>\n",
       "      <td>0.463654</td>\n",
       "      <td>0.362673</td>\n",
       "      <td>0.509591</td>\n",
       "      <td>0.346054</td>\n",
       "      <td>0.321132</td>\n",
       "      <td>0.495813</td>\n",
       "      <td>...</td>\n",
       "      <td>1</td>\n",
       "      <td>0.423631</td>\n",
       "      <td>0.299906</td>\n",
       "      <td>0.420408</td>\n",
       "      <td>0.348618</td>\n",
       "      <td>0.488712</td>\n",
       "      <td>0.454087</td>\n",
       "      <td>0.262610</td>\n",
       "      <td>0.651087</td>\n",
       "      <td>1.000000</td>\n",
       "    </tr>\n",
       "  </tbody>\n",
       "</table>\n",
       "<p>23 rows × 23 columns</p>\n",
       "</div>"
      ],
      "text/plain": [
       "             ET000063331  KEM00063799  ET000063402  KE000063661  KE000063740  \\\n",
       "ET000063331     1.000000     0.013189     0.137541     0.027972    -0.048330   \n",
       "KEM00063799     0.013189     1.000000     0.027534     0.013107     0.017628   \n",
       "ET000063402     0.137541     0.027534     1.000000     0.027246    -0.031112   \n",
       "KE000063661     0.027972     0.013107     0.027246     1.000000     0.039609   \n",
       "KE000063740    -0.048330     0.017628    -0.031112     0.039609     1.000000   \n",
       "KE000063612    -0.004076     0.029739     0.027558     0.054337     0.030429   \n",
       "KEM00063741    -0.089968     0.058509    -0.012083     0.108188     0.197129   \n",
       "ET000063450     0.165515     0.014750     0.142761     0.038700    -0.031661   \n",
       "ET000063471     0.090720     0.025589     0.084465     0.043580     0.017088   \n",
       "TZ000063894    -0.037489     0.095574    -0.011826     0.039754     0.079381   \n",
       "TZ000063832    -0.116261    -0.010894    -0.060317     0.027551     0.111834   \n",
       "ET000063403     0.175840    -0.000799     0.191923     0.021052    -0.054162   \n",
       "TZ000063862    -0.060086    -0.019004    -0.028902     0.027742     0.047898   \n",
       "KE000063619          NaN          NaN          NaN          NaN          NaN   \n",
       "TZ000063756    -0.079837     0.008945    -0.023525     0.076275     0.123871   \n",
       "SU000062941     0.069454     0.044520     0.101591     0.023899     0.000796   \n",
       "KEM00063686     0.072099     0.037598     0.078284     0.144486     0.085107   \n",
       "KE000063820     0.003577     0.190247     0.030423     0.011645     0.056486   \n",
       "RWM00064387    -0.026476     0.010053    -0.020223     0.020585     0.015104   \n",
       "KE000063723    -0.027603     0.022872    -0.017723     0.018957     0.117653   \n",
       "KE000063624    -0.038117     0.036502     0.022280     0.035945     0.055069   \n",
       "Accumulated     0.429189     0.591892     0.430754     0.461704     0.368649   \n",
       "DailyMean       0.321761     0.414985     0.408345     0.382358     0.463654   \n",
       "\n",
       "             KE000063612  KEM00063741  ET000063450  ET000063471  TZ000063894  \\\n",
       "ET000063331    -0.004076    -0.089968     0.165515     0.090720    -0.037489   \n",
       "KEM00063799     0.029739     0.058509     0.014750     0.025589     0.095574   \n",
       "ET000063402     0.027558    -0.012083     0.142761     0.084465    -0.011826   \n",
       "KE000063661     0.054337     0.108188     0.038700     0.043580     0.039754   \n",
       "KE000063740     0.030429     0.197129    -0.031661     0.017088     0.079381   \n",
       "KE000063612     1.000000     0.029413     0.008072     0.005231     0.016282   \n",
       "KEM00063741     0.029413     1.000000    -0.045662     0.061123     0.075006   \n",
       "ET000063450     0.008072    -0.045662     1.000000     0.153815    -0.022080   \n",
       "ET000063471     0.005231     0.061123     0.153815     1.000000     0.038692   \n",
       "TZ000063894     0.016282     0.075006    -0.022080     0.038692     1.000000   \n",
       "TZ000063832     0.055207     0.107291    -0.085461    -0.022021     0.073256   \n",
       "ET000063403    -0.024828    -0.071049     0.111457     0.040229    -0.025271   \n",
       "TZ000063862     0.048672     0.030252    -0.038867    -0.001213     0.098759   \n",
       "KE000063619          NaN          NaN          NaN          NaN          NaN   \n",
       "TZ000063756     0.039412     0.084568    -0.033686     0.011082     0.049258   \n",
       "SU000062941     0.000541     0.021385     0.067576     0.036199    -0.002515   \n",
       "KEM00063686     0.091737     0.116994     0.077284     0.041549     0.022086   \n",
       "KE000063820     0.021765     0.068244    -0.004109     0.028561     0.114124   \n",
       "RWM00064387     0.010813     0.003379    -0.008122     0.045536     0.021807   \n",
       "KE000063723     0.027103     0.048197    -0.015818     0.023914     0.047445   \n",
       "KE000063624     0.016131     0.042733     0.015591     0.044875     0.051279   \n",
       "Accumulated     0.240736     0.460853     0.326506     0.294121     0.420255   \n",
       "DailyMean       0.362673     0.509591     0.346054     0.321132     0.495813   \n",
       "\n",
       "               ...      KE000063619  TZ000063756  SU000062941  KEM00063686  \\\n",
       "ET000063331    ...              NaN    -0.079837     0.069454     0.072099   \n",
       "KEM00063799    ...              NaN     0.008945     0.044520     0.037598   \n",
       "ET000063402    ...              NaN    -0.023525     0.101591     0.078284   \n",
       "KE000063661    ...              NaN     0.076275     0.023899     0.144486   \n",
       "KE000063740    ...              NaN     0.123871     0.000796     0.085107   \n",
       "KE000063612    ...              NaN     0.039412     0.000541     0.091737   \n",
       "KEM00063741    ...              NaN     0.084568     0.021385     0.116994   \n",
       "ET000063450    ...              NaN    -0.033686     0.067576     0.077284   \n",
       "ET000063471    ...              NaN     0.011082     0.036199     0.041549   \n",
       "TZ000063894    ...              NaN     0.049258    -0.002515     0.022086   \n",
       "TZ000063832    ...              NaN     0.177948    -0.046924     0.043520   \n",
       "ET000063403    ...              NaN    -0.072491     0.082059     0.017773   \n",
       "TZ000063862    ...              NaN     0.047991    -0.039818     0.093991   \n",
       "KE000063619    ...                1          NaN          NaN          NaN   \n",
       "TZ000063756    ...              NaN     1.000000    -0.002265     0.047957   \n",
       "SU000062941    ...              NaN    -0.002265     1.000000     0.039242   \n",
       "KEM00063686    ...              NaN     0.047957     0.039242     1.000000   \n",
       "KE000063820    ...              NaN     0.036902     0.019527     0.119122   \n",
       "RWM00064387    ...              NaN     0.060791    -0.007565     0.015050   \n",
       "KE000063723    ...              NaN     0.091329     0.006747     0.030222   \n",
       "KE000063624    ...              NaN     0.067489     0.011814     0.072779   \n",
       "Accumulated    ...                1     0.248203     0.202862     0.297064   \n",
       "DailyMean      ...                1     0.423631     0.299906     0.420408   \n",
       "\n",
       "             KE000063820  RWM00064387  KE000063723  KE000063624  Accumulated  \\\n",
       "ET000063331     0.003577    -0.026476    -0.027603    -0.038117     0.429189   \n",
       "KEM00063799     0.190247     0.010053     0.022872     0.036502     0.591892   \n",
       "ET000063402     0.030423    -0.020223    -0.017723     0.022280     0.430754   \n",
       "KE000063661     0.011645     0.020585     0.018957     0.035945     0.461704   \n",
       "KE000063740     0.056486     0.015104     0.117653     0.055069     0.368649   \n",
       "KE000063612     0.021765     0.010813     0.027103     0.016131     0.240736   \n",
       "KEM00063741     0.068244     0.003379     0.048197     0.042733     0.460853   \n",
       "ET000063450    -0.004109    -0.008122    -0.015818     0.015591     0.326506   \n",
       "ET000063471     0.028561     0.045536     0.023914     0.044875     0.294121   \n",
       "TZ000063894     0.114124     0.021807     0.047445     0.051279     0.420255   \n",
       "TZ000063832    -0.018102     0.069104     0.056316     0.018951     0.213119   \n",
       "ET000063403     0.035645    -0.026959    -0.022813    -0.010249     0.316119   \n",
       "TZ000063862     0.003351     0.052927    -0.010388    -0.009809     0.371897   \n",
       "KE000063619          NaN          NaN          NaN          NaN     1.000000   \n",
       "TZ000063756     0.036902     0.060791     0.091329     0.067489     0.248203   \n",
       "SU000062941     0.019527    -0.007565     0.006747     0.011814     0.202862   \n",
       "KEM00063686     0.119122     0.015050     0.030222     0.072779     0.297064   \n",
       "KE000063820     1.000000     0.033750     0.075455     0.102230     0.238976   \n",
       "RWM00064387     0.033750     1.000000     0.059783     0.042525     0.167150   \n",
       "KE000063723     0.075455     0.059783     1.000000     0.089762     0.136873   \n",
       "KE000063624     0.102230     0.042525     0.089762     1.000000     0.095186   \n",
       "Accumulated     0.238976     0.167150     0.136873     0.095186     1.000000   \n",
       "DailyMean       0.348618     0.488712     0.454087     0.262610     0.651087   \n",
       "\n",
       "             DailyMean  \n",
       "ET000063331   0.321761  \n",
       "KEM00063799   0.414985  \n",
       "ET000063402   0.408345  \n",
       "KE000063661   0.382358  \n",
       "KE000063740   0.463654  \n",
       "KE000063612   0.362673  \n",
       "KEM00063741   0.509591  \n",
       "ET000063450   0.346054  \n",
       "ET000063471   0.321132  \n",
       "TZ000063894   0.495813  \n",
       "TZ000063832   0.321742  \n",
       "ET000063403   0.383349  \n",
       "TZ000063862   0.551196  \n",
       "KE000063619   1.000000  \n",
       "TZ000063756   0.423631  \n",
       "SU000062941   0.299906  \n",
       "KEM00063686   0.420408  \n",
       "KE000063820   0.348618  \n",
       "RWM00064387   0.488712  \n",
       "KE000063723   0.454087  \n",
       "KE000063624   0.262610  \n",
       "Accumulated   0.651087  \n",
       "DailyMean     1.000000  \n",
       "\n",
       "[23 rows x 23 columns]"
      ]
     },
     "execution_count": 23,
     "metadata": {},
     "output_type": "execute_result"
    }
   ],
   "source": [
    "corr_matrix = df_prcp\n",
    "corr_matrix.corr(method='pearson', min_periods=1)"
   ]
  },
  {
   "cell_type": "markdown",
   "metadata": {},
   "source": [
    "calculate the percentiles"
   ]
  },
  {
   "cell_type": "code",
   "execution_count": 29,
   "metadata": {
    "collapsed": false
   },
   "outputs": [],
   "source": [
    "#def percentile(df, percentile):\n",
    "   # size = len(df_prcp)\n",
    "     \n",
    "p90 = []\n",
    "p95 = []\n",
    "p99 = [] \n",
    "for day in df_prcp.index:\n",
    "    tmp = np.array([df_prcp[key][day] for key in df_prcp.keys()])\n",
    "    p90.append(np.percentile(tmp,90))    # ...find the nth percentile uncertainty values \n",
    "    p95.append(np.percentile(tmp,95)) \n",
    "    p99.append(np.percentile(tmp,99)) \n",
    "        \n",
    "        \n",
    "        #return p90, p95, p99"
   ]
  },
  {
   "cell_type": "code",
   "execution_count": 30,
   "metadata": {
    "collapsed": false
   },
   "outputs": [
    {
     "data": {
      "text/plain": [
       "[<matplotlib.lines.Line2D at 0x10fdd5490>]"
      ]
     },
     "execution_count": 30,
     "metadata": {},
     "output_type": "execute_result"
    },
    {
     "data": {
      "image/png": "iVBORw0KGgoAAAANSUhEUgAAAYEAAAEACAYAAABVtcpZAAAABHNCSVQICAgIfAhkiAAAAAlwSFlz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\nAAAASUVORK5CYII=\n",
      "text/plain": [
       "<matplotlib.figure.Figure at 0x10ba8df10>"
      ]
     },
     "metadata": {},
     "output_type": "display_data"
    }
   ],
   "source": [
    "plt.plot(p90)"
   ]
  },
  {
   "cell_type": "code",
   "execution_count": 31,
   "metadata": {
    "collapsed": false
   },
   "outputs": [
    {
     "ename": "ValueError",
     "evalue": "x and y must have same first dimension",
     "output_type": "error",
     "traceback": [
      "\u001b[0;31m---------------------------------------------------------------------------\u001b[0m",
      "\u001b[0;31mValueError\u001b[0m                                Traceback (most recent call last)",
      "\u001b[0;32m<ipython-input-31-1b0c86792721>\u001b[0m in \u001b[0;36m<module>\u001b[0;34m()\u001b[0m\n\u001b[1;32m      4\u001b[0m \u001b[0max1\u001b[0m \u001b[0;34m=\u001b[0m \u001b[0mfig_sig\u001b[0m\u001b[0;34m.\u001b[0m\u001b[0madd_subplot\u001b[0m\u001b[0;34m(\u001b[0m\u001b[0;36m111\u001b[0m\u001b[0;34m)\u001b[0m\u001b[0;34m\u001b[0m\u001b[0m\n\u001b[1;32m      5\u001b[0m \u001b[0;34m\u001b[0m\u001b[0m\n\u001b[0;32m----> 6\u001b[0;31m \u001b[0max1\u001b[0m\u001b[0;34m.\u001b[0m\u001b[0mplot\u001b[0m\u001b[0;34m(\u001b[0m\u001b[0mxsubs\u001b[0m\u001b[0;34m,\u001b[0m \u001b[0mp90\u001b[0m\u001b[0;34m,\u001b[0m\u001b[0;34m'g-'\u001b[0m\u001b[0;34m,\u001b[0m\u001b[0mxsubs\u001b[0m\u001b[0;34m,\u001b[0m\u001b[0mp95\u001b[0m\u001b[0;34m,\u001b[0m\u001b[0;34m'g--'\u001b[0m\u001b[0;34m,\u001b[0m\u001b[0mp99\u001b[0m\u001b[0;34m,\u001b[0m\u001b[0;34m'g:'\u001b[0m\u001b[0;34m,\u001b[0m\u001b[0malpha\u001b[0m\u001b[0;34m=\u001b[0m\u001b[0;36m0.8\u001b[0m\u001b[0;34m)\u001b[0m\u001b[0;34m\u001b[0m\u001b[0m\n\u001b[0m\u001b[1;32m      7\u001b[0m \u001b[0;34m\u001b[0m\u001b[0m\n\u001b[1;32m      8\u001b[0m \u001b[0max1\u001b[0m\u001b[0;34m.\u001b[0m\u001b[0mset_title\u001b[0m\u001b[0;34m(\u001b[0m\u001b[0;34m'Conf. intervals for samples of n='\u001b[0m\u001b[0;34m+\u001b[0m\u001b[0mstr\u001b[0m\u001b[0;34m(\u001b[0m\u001b[0ms_size\u001b[0m\u001b[0;34m)\u001b[0m\u001b[0;34m+\u001b[0m\u001b[0;34m' using '\u001b[0m\u001b[0;34m+\u001b[0m\u001b[0mstr\u001b[0m\u001b[0;34m(\u001b[0m\u001b[0miter_num\u001b[0m\u001b[0;34m)\u001b[0m\u001b[0;34m+\u001b[0m\u001b[0;34m' MC its.'\u001b[0m\u001b[0;34m)\u001b[0m\u001b[0;34m\u001b[0m\u001b[0m\n",
      "\u001b[0;32m//anaconda/lib/python2.7/site-packages/matplotlib/axes/_axes.pyc\u001b[0m in \u001b[0;36mplot\u001b[0;34m(self, *args, **kwargs)\u001b[0m\n\u001b[1;32m   1371\u001b[0m         \u001b[0mlines\u001b[0m \u001b[0;34m=\u001b[0m \u001b[0;34m[\u001b[0m\u001b[0;34m]\u001b[0m\u001b[0;34m\u001b[0m\u001b[0m\n\u001b[1;32m   1372\u001b[0m \u001b[0;34m\u001b[0m\u001b[0m\n\u001b[0;32m-> 1373\u001b[0;31m         \u001b[0;32mfor\u001b[0m \u001b[0mline\u001b[0m \u001b[0;32min\u001b[0m \u001b[0mself\u001b[0m\u001b[0;34m.\u001b[0m\u001b[0m_get_lines\u001b[0m\u001b[0;34m(\u001b[0m\u001b[0;34m*\u001b[0m\u001b[0margs\u001b[0m\u001b[0;34m,\u001b[0m \u001b[0;34m**\u001b[0m\u001b[0mkwargs\u001b[0m\u001b[0;34m)\u001b[0m\u001b[0;34m:\u001b[0m\u001b[0;34m\u001b[0m\u001b[0m\n\u001b[0m\u001b[1;32m   1374\u001b[0m             \u001b[0mself\u001b[0m\u001b[0;34m.\u001b[0m\u001b[0madd_line\u001b[0m\u001b[0;34m(\u001b[0m\u001b[0mline\u001b[0m\u001b[0;34m)\u001b[0m\u001b[0;34m\u001b[0m\u001b[0m\n\u001b[1;32m   1375\u001b[0m             \u001b[0mlines\u001b[0m\u001b[0;34m.\u001b[0m\u001b[0mappend\u001b[0m\u001b[0;34m(\u001b[0m\u001b[0mline\u001b[0m\u001b[0;34m)\u001b[0m\u001b[0;34m\u001b[0m\u001b[0m\n",
      "\u001b[0;32m//anaconda/lib/python2.7/site-packages/matplotlib/axes/_base.pyc\u001b[0m in \u001b[0;36m_grab_next_args\u001b[0;34m(self, *args, **kwargs)\u001b[0m\n\u001b[1;32m    311\u001b[0m                 \u001b[0misplit\u001b[0m \u001b[0;34m=\u001b[0m \u001b[0;36m2\u001b[0m\u001b[0;34m\u001b[0m\u001b[0m\n\u001b[1;32m    312\u001b[0m \u001b[0;34m\u001b[0m\u001b[0m\n\u001b[0;32m--> 313\u001b[0;31m             \u001b[0;32mfor\u001b[0m \u001b[0mseg\u001b[0m \u001b[0;32min\u001b[0m \u001b[0mself\u001b[0m\u001b[0;34m.\u001b[0m\u001b[0m_plot_args\u001b[0m\u001b[0;34m(\u001b[0m\u001b[0mremaining\u001b[0m\u001b[0;34m[\u001b[0m\u001b[0;34m:\u001b[0m\u001b[0misplit\u001b[0m\u001b[0;34m]\u001b[0m\u001b[0;34m,\u001b[0m \u001b[0mkwargs\u001b[0m\u001b[0;34m)\u001b[0m\u001b[0;34m:\u001b[0m\u001b[0;34m\u001b[0m\u001b[0m\n\u001b[0m\u001b[1;32m    314\u001b[0m                 \u001b[0;32myield\u001b[0m \u001b[0mseg\u001b[0m\u001b[0;34m\u001b[0m\u001b[0m\n\u001b[1;32m    315\u001b[0m             \u001b[0mremaining\u001b[0m \u001b[0;34m=\u001b[0m \u001b[0mremaining\u001b[0m\u001b[0;34m[\u001b[0m\u001b[0misplit\u001b[0m\u001b[0;34m:\u001b[0m\u001b[0;34m]\u001b[0m\u001b[0;34m\u001b[0m\u001b[0m\n",
      "\u001b[0;32m//anaconda/lib/python2.7/site-packages/matplotlib/axes/_base.pyc\u001b[0m in \u001b[0;36m_plot_args\u001b[0;34m(self, tup, kwargs)\u001b[0m\n\u001b[1;32m    280\u001b[0m             \u001b[0mx\u001b[0m \u001b[0;34m=\u001b[0m \u001b[0mnp\u001b[0m\u001b[0;34m.\u001b[0m\u001b[0marange\u001b[0m\u001b[0;34m(\u001b[0m\u001b[0my\u001b[0m\u001b[0;34m.\u001b[0m\u001b[0mshape\u001b[0m\u001b[0;34m[\u001b[0m\u001b[0;36m0\u001b[0m\u001b[0;34m]\u001b[0m\u001b[0;34m,\u001b[0m \u001b[0mdtype\u001b[0m\u001b[0;34m=\u001b[0m\u001b[0mfloat\u001b[0m\u001b[0;34m)\u001b[0m\u001b[0;34m\u001b[0m\u001b[0m\n\u001b[1;32m    281\u001b[0m \u001b[0;34m\u001b[0m\u001b[0m\n\u001b[0;32m--> 282\u001b[0;31m         \u001b[0mx\u001b[0m\u001b[0;34m,\u001b[0m \u001b[0my\u001b[0m \u001b[0;34m=\u001b[0m \u001b[0mself\u001b[0m\u001b[0;34m.\u001b[0m\u001b[0m_xy_from_xy\u001b[0m\u001b[0;34m(\u001b[0m\u001b[0mx\u001b[0m\u001b[0;34m,\u001b[0m \u001b[0my\u001b[0m\u001b[0;34m)\u001b[0m\u001b[0;34m\u001b[0m\u001b[0m\n\u001b[0m\u001b[1;32m    283\u001b[0m \u001b[0;34m\u001b[0m\u001b[0m\n\u001b[1;32m    284\u001b[0m         \u001b[0;32mif\u001b[0m \u001b[0mself\u001b[0m\u001b[0;34m.\u001b[0m\u001b[0mcommand\u001b[0m \u001b[0;34m==\u001b[0m \u001b[0;34m'plot'\u001b[0m\u001b[0;34m:\u001b[0m\u001b[0;34m\u001b[0m\u001b[0m\n",
      "\u001b[0;32m//anaconda/lib/python2.7/site-packages/matplotlib/axes/_base.pyc\u001b[0m in \u001b[0;36m_xy_from_xy\u001b[0;34m(self, x, y)\u001b[0m\n\u001b[1;32m    221\u001b[0m         \u001b[0my\u001b[0m \u001b[0;34m=\u001b[0m \u001b[0mnp\u001b[0m\u001b[0;34m.\u001b[0m\u001b[0matleast_1d\u001b[0m\u001b[0;34m(\u001b[0m\u001b[0my\u001b[0m\u001b[0;34m)\u001b[0m\u001b[0;34m\u001b[0m\u001b[0m\n\u001b[1;32m    222\u001b[0m         \u001b[0;32mif\u001b[0m \u001b[0mx\u001b[0m\u001b[0;34m.\u001b[0m\u001b[0mshape\u001b[0m\u001b[0;34m[\u001b[0m\u001b[0;36m0\u001b[0m\u001b[0;34m]\u001b[0m \u001b[0;34m!=\u001b[0m \u001b[0my\u001b[0m\u001b[0;34m.\u001b[0m\u001b[0mshape\u001b[0m\u001b[0;34m[\u001b[0m\u001b[0;36m0\u001b[0m\u001b[0;34m]\u001b[0m\u001b[0;34m:\u001b[0m\u001b[0;34m\u001b[0m\u001b[0m\n\u001b[0;32m--> 223\u001b[0;31m             \u001b[0;32mraise\u001b[0m \u001b[0mValueError\u001b[0m\u001b[0;34m(\u001b[0m\u001b[0;34m\"x and y must have same first dimension\"\u001b[0m\u001b[0;34m)\u001b[0m\u001b[0;34m\u001b[0m\u001b[0m\n\u001b[0m\u001b[1;32m    224\u001b[0m         \u001b[0;32mif\u001b[0m \u001b[0mx\u001b[0m\u001b[0;34m.\u001b[0m\u001b[0mndim\u001b[0m \u001b[0;34m>\u001b[0m \u001b[0;36m2\u001b[0m \u001b[0;32mor\u001b[0m \u001b[0my\u001b[0m\u001b[0;34m.\u001b[0m\u001b[0mndim\u001b[0m \u001b[0;34m>\u001b[0m \u001b[0;36m2\u001b[0m\u001b[0;34m:\u001b[0m\u001b[0;34m\u001b[0m\u001b[0m\n\u001b[1;32m    225\u001b[0m             \u001b[0;32mraise\u001b[0m \u001b[0mValueError\u001b[0m\u001b[0;34m(\u001b[0m\u001b[0;34m\"x and y can be no greater than 2-D\"\u001b[0m\u001b[0;34m)\u001b[0m\u001b[0;34m\u001b[0m\u001b[0m\n",
      "\u001b[0;31mValueError\u001b[0m: x and y must have same first dimension"
     ]
    },
    {
     "data": {
      "image/png": "iVBORw0KGgoAAAANSUhEUgAAAXcAAAEACAYAAABI5zaHAAAABHNCSVQICAgIfAhkiAAAAAlwSFlz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\nYII=\n",
      "text/plain": [
       "<matplotlib.figure.Figure at 0x1063d9b50>"
      ]
     },
     "metadata": {},
     "output_type": "display_data"
    }
   ],
   "source": [
    "xsubs = xrange  # Create X-axis subscripts \n",
    "\n",
    "fig_sig = plt.figure()\n",
    "ax1 = fig_sig.add_subplot(111)\n",
    "\n",
    "ax1.plot(xsubs, p90,'g-',xsubs,p95,'g--',p99,'g:',alpha=0.8)\n",
    "\n",
    "ax1.set_title('Conf. intervals for samples of n='+str(s_size)+' using '+str(iter_num)+' MC its.')\n",
    "ax1.set_xlabel('Days since key events')\n",
    "ax1.set_ylabel('Cloud cover (%)')\n",
    "ax1.set_xlim(min(xsubs),max(xsubs))\n",
    "\n",
    "fig_sig.text(0.15, 0.85, r\"Upper percentiles (90,95,99)\",fontsize=9,color='g')\n",
    "#fig_sig.text(0.15, 0.15, r\"Lower percentiles (10,5,1)\",fontsize=9,color='g')\n",
    "\n",
    "plt.show(fig_sig)"
   ]
  },
  {
   "cell_type": "code",
   "execution_count": null,
   "metadata": {
    "collapsed": false
   },
   "outputs": [],
   "source": [
    "#from scipy.stats import scoreatpercentile\n",
    "# percentiles of interest\n",
    "#tmp = np.array([df_prcp[key][day] for key in df_prcp.keys()])\n",
    "#perc = [min(tmp), scoreatpercentile(tmp,10), scoreatpercentile(tmp,25),\n",
    "              # scoreatpercentile(tmp,50), scoreatpercentile(tmp,75),\n",
    "               #scoreatpercentile(tmp,90), max(tmp)]\n"
   ]
  },
  {
   "cell_type": "code",
   "execution_count": null,
   "metadata": {
    "collapsed": false
   },
   "outputs": [],
   "source": [
    "a = [154, 400, 1124, 82, 94, 108]\n",
    "print (np.percentile(a,95)) # gives the 95th percentile"
   ]
  },
  {
   "cell_type": "code",
   "execution_count": null,
   "metadata": {
    "collapsed": true
   },
   "outputs": [],
   "source": []
  }
 ],
 "metadata": {
  "kernelspec": {
   "display_name": "Python 3",
   "language": "python",
   "name": "python3"
  },
  "language_info": {
   "codemirror_mode": {
    "name": "ipython",
    "version": 3
   },
   "file_extension": ".py",
   "mimetype": "text/x-python",
   "name": "python",
   "nbconvert_exporter": "python",
   "pygments_lexer": "ipython3",
   "version": "3.4.3"
  }
 },
 "nbformat": 4,
 "nbformat_minor": 0
}
