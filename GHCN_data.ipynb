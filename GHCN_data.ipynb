{
 "cells": [
  {
   "cell_type": "markdown",
   "metadata": {},
   "source": [
    "### Read the station data from GHCN archive ###\n",
    "\n",
    "Data obtained from http://www.ncdc.noaa.gov/cdo-web/"
   ]
  },
  {
   "cell_type": "code",
   "execution_count": null,
   "metadata": {
    "collapsed": false
   },
   "outputs": [],
   "source": [
    "from __future__ import print_function, division\n",
    "import numpy as np\n",
    "import numpy.ma as ma\n",
    "import pandas as pd\n",
    "import matplotlib.pyplot as plt\n",
    "import math\n",
    "#import seaborn as sns\n",
    "import os\n",
    "import glob\n",
    "%matplotlib inline"
   ]
  },
  {
   "cell_type": "code",
   "execution_count": null,
   "metadata": {
    "collapsed": true
   },
   "outputs": [],
   "source": [
    "def get_date(date_number):\n",
    "    \"\"\"\n",
    "    Turn the int64 value from the DATE of GHCN into a pd.datetime\n",
    "    \"\"\"\n",
    "    dstring = str(date_number)\n",
    "    return pd.datetime(int(dstring[0:4]),int(dstring[4:6]),int(dstring[6:8]))\n",
    "\n",
    "def get_df(fnm, var, no_missing = True):\n",
    "    \"\"\"\n",
    "    Create a dataframe for a single station, with a time index, for a single\n",
    "    variable of data given as a key word (e.g. PRECIP, TMAX, TMIN).\n",
    "    Requires file path and name (fnm).\n",
    "    no_missing is a Bool that optionally masks out values < -99 from the df.\n",
    "    \"\"\"\n",
    "    df = pd.read_csv(fnm)\n",
    "    dt_indx = [get_date(date) for date in df.DATE]\n",
    "    data_vals = df[var].values\n",
    "    if var is 'PRCP':\n",
    "        data_vals = data_vals / 10.  # This is to convert precip data to mm\n",
    "    if no_missing:\n",
    "        tmp_df = pd.DataFrame(data=data_vals,\n",
    "                              index=dt_indx,columns=[df.STATION[0][6:]])\n",
    "        mask = tmp_df > -99.  # A catchall value for missing data in GHCN\n",
    "        return tmp_df[mask]\n",
    "    else:\n",
    "        return pd.DataFrame(data=data_vals,\n",
    "                            index=dt_indx,columns=[df.STATION[0][6:]])\n",
    "\n",
    "def get_combined_df(fpth, var):\n",
    "    \"\"\"\n",
    "    From a given file path, and variable, extract data from all .csv files, and\n",
    "    place in a single dataframe object.\n",
    "    \"\"\"\n",
    "    flist = glob.glob(fpth)\n",
    "    df_dic = {}\n",
    "    for f in flist:\n",
    "        df_dic[f[5:]] = get_df(fnm = f, var = var, no_missing=True)\n",
    "    return pd.concat([df_dic[key] for key in df_dic.keys()],axis=1)"
   ]
  },
  {
   "cell_type": "markdown",
   "metadata": {},
   "source": [
    "Call the Get_combined() function to create dataframes out of all data in a folder."
   ]
  },
  {
   "cell_type": "code",
   "execution_count": null,
   "metadata": {
    "collapsed": false
   },
   "outputs": [],
   "source": [
    "%%time\n",
    "df_tmax = get_combined_df(fpth=\"Data/*.csv\",var=\"TMAX\")\n",
    "df_tmin = get_combined_df(fpth=\"Data/*.csv\",var=\"TMIN\")\n",
    "df_prcp = get_combined_df(fpth=\"Data/*.csv\",var=\"PRCP\")"
   ]
  },
  {
   "cell_type": "markdown",
   "metadata": {},
   "source": [
    "### Start of analysis ###\n",
    "\n",
    "Plot time series of precipitation for all stations, and also accumulate the data and plot the average rainfall."
   ]
  },
  {
   "cell_type": "code",
   "execution_count": null,
   "metadata": {
    "collapsed": false,
    "scrolled": true
   },
   "outputs": [],
   "source": [
    "# Example of masking and accessing data from stations...\n",
    "station = df_prcp.keys()[4]\n",
    "plt.plot(df_prcp[station].index,df_prcp[station],'.',alpha=0.5)\n",
    "plt.title(\"Station {0:s}\".format(station))"
   ]
  },
  {
   "cell_type": "code",
   "execution_count": null,
   "metadata": {
    "collapsed": false
   },
   "outputs": [],
   "source": [
    "df_prcp.KE000063740['2015']"
   ]
  },
  {
   "cell_type": "code",
   "execution_count": null,
   "metadata": {
    "collapsed": false
   },
   "outputs": [],
   "source": [
    "df_prcp.KE000063740[df_prcp.KE000063740 > 100]"
   ]
  },
  {
   "cell_type": "markdown",
   "metadata": {},
   "source": [
    "## Time series plots"
   ]
  },
  {
   "cell_type": "markdown",
   "metadata": {},
   "source": [
    "Daily Mean and SEM values:\n",
    "Mean uncertainty is given by SEM, where: $$ SEM = \\frac {\\sigma} {\\sqrt{n-1}}$$"
   ]
  },
  {
   "cell_type": "code",
   "execution_count": null,
   "metadata": {
    "collapsed": false
   },
   "outputs": [],
   "source": [
    "def daily_mean(date, df):\n",
    "    \"\"\"\n",
    "    Return the mean value for all stations on a specified day,\n",
    "    ignoring NAN values.\n",
    "    \"\"\"\n",
    "    tmp = np.array([df_prcp[key][day] for key in df_prcp.keys()])\n",
    "    valid = tmp > -1\n",
    "    tmp = tmp[valid]\n",
    "    mean = np.mean(tmp)\n",
    "    std = np.std(tmp)\n",
    "    count = len(tmp)\n",
    "    sem = std/np.sqrt(count -1)\n",
    "    return mean, std, count, sem"
   ]
  },
  {
   "cell_type": "code",
   "execution_count": null,
   "metadata": {
    "collapsed": false
   },
   "outputs": [],
   "source": [
    "means = []\n",
    "stds = []\n",
    "sems = []\n",
    "for day in df_prcp.index:#[10000:10005]\n",
    "    tmp = np.array([df_prcp[key][day] for key in df_prcp.keys()])\n",
    "    #print (tmp)\n",
    "    valid = tmp > -1\n",
    "    tmp = tmp[valid]\n",
    "    mean = np.mean(tmp)\n",
    "    std = np.std(tmp)\n",
    "    count = len(tmp)\n",
    "    sem = std/np.sqrt(count -1)\n",
    "    #print(day.date())\n",
    "    #print(daily_mean(date=day, df=df_prcp))\n",
    "    means.append(mean)\n",
    "    stds.append(std)\n",
    "    sems.append(sem)"
   ]
  },
  {
   "cell_type": "code",
   "execution_count": null,
   "metadata": {
    "collapsed": false
   },
   "outputs": [],
   "source": [
    "mean"
   ]
  },
  {
   "cell_type": "code",
   "execution_count": null,
   "metadata": {
    "collapsed": false
   },
   "outputs": [],
   "source": [
    "plt.errorbar(df_prcp.index,means,yerr=sems,xerr=None,alpha=0.75)\n",
    "plt.xlim(xmin='1991-01-01',xmax='2015-08-31')\n",
    "plt.ylim((0.0,200))\n",
    "plt.title(\"East Africa Daily Precipitation Mean ($\\mu$) \")\n",
    "plt.ylabel(\"Precipitation (mm) day$^{-1}$\")\n",
    "plt.xlabel(\"Year\")"
   ]
  },
  {
   "cell_type": "code",
   "execution_count": null,
   "metadata": {
    "collapsed": false
   },
   "outputs": [],
   "source": [
    "#np.shape(means)"
   ]
  },
  {
   "cell_type": "markdown",
   "metadata": {},
   "source": [
    "Accumulated Daily Mean and SEM values"
   ]
  },
  {
   "cell_type": "code",
   "execution_count": null,
   "metadata": {
    "collapsed": false
   },
   "outputs": [],
   "source": [
    "Acc_mean =[]\n",
    "Acc_sem = []\n",
    "for day in df_prcp.index:#[10000:10005]\n",
    "    tmp = np.array([df_prcp[key][day] for key in df_prcp.keys()])\n",
    "    #print (tmp)\n",
    "    valid = tmp > -1\n",
    "    tmp = tmp[valid]\n",
    "    csum  = np.cumsum(tmp)\n",
    "    cmean = np.mean(csum)\n",
    "    cstd  = np.std(csum)\n",
    "    ccount = len(csum)\n",
    "    csem = cstd/np.sqrt(count -1)\n",
    "    \n",
    "    Acc_mean.append(cmean)\n",
    "    Acc_sem.append(csem)\n",
    "    \n",
    "df_prcp['Accumulated']=pd.Series(Acc_mean,index=df_prcp.index) #Adding columns to the data frames\n",
    "df_prcp['DailyMean']=pd.Series(means,index=df_prcp.index)\n",
    "#df_prcp.tail()"
   ]
  },
  {
   "cell_type": "code",
   "execution_count": null,
   "metadata": {
    "collapsed": false
   },
   "outputs": [],
   "source": [
    "plt.errorbar(df_prcp.index,Acc_mean,yerr=Acc_sem,xerr=None,alpha=0.75)\n",
    "plt.xlim(xmin='1961-01-01',xmax='2015-08-31')\n",
    "plt.ylim((0.0,400))\n",
    "plt.title(\"East Africa Daily Precipitation \")\n",
    "plt.ylabel(\"Precipitation (mm) day$^{-1}$\")\n",
    "plt.xlabel(\"Year\")"
   ]
  },
  {
   "cell_type": "markdown",
   "metadata": {},
   "source": [
    "DOY mean (μ) and SEM values"
   ]
  },
  {
   "cell_type": "code",
   "execution_count": null,
   "metadata": {
    "collapsed": true
   },
   "outputs": [],
   "source": []
  },
  {
   "cell_type": "code",
   "execution_count": null,
   "metadata": {
    "collapsed": false,
    "scrolled": true
   },
   "outputs": [],
   "source": [
    "doy_mean=[]\n",
    "doy_sem =[]\n",
    "doy_csum=[]\n",
    "for doy in range(366):\n",
    "    index = df_prcp.index.dayofyear == doy+1 \n",
    "    doy_mean.append(np.nanmean(df_prcp[index]))\n",
    "    doy_sem.append(np.nanstd(df_prcp[index])/np.sqrt(len(df_prcp[index])-1))  "
   ]
  },
  {
   "cell_type": "code",
   "execution_count": null,
   "metadata": {
    "collapsed": false,
    "scrolled": false
   },
   "outputs": [],
   "source": [
    "plt.errorbar(range(366),doy_mean,xerr=None, yerr=doy_sem, alpha=0.6)\n",
    "plt.xlim(0,max(range(366)))\n",
    "plt.title(\"East Africa DOY Mean ($\\mu$) Rainfall\")\n",
    "plt.ylabel(\"Precipitation (mm)\")\n",
    "plt.xlabel(\"Day of Year\")"
   ]
  },
  {
   "cell_type": "markdown",
   "metadata": {},
   "source": [
    "Anomaly\n",
    "\n",
    "Use the seasonal DOY mean to calculate deviations (anomaly) from the daily mean"
   ]
  },
  {
   "cell_type": "code",
   "execution_count": null,
   "metadata": {
    "collapsed": false
   },
   "outputs": [],
   "source": [
    "##Anomalies = Observation - Climatology\n",
    "anomalies = []\n",
    "for n,day in enumerate(df_prcp.index):\n",
    "    #print(\"Index: {0} Date: {1} Value: {0:3.3f}\".format(n,df_prcp.index[n].date(),day[0]))\n",
    "    doyi = df_prcp.index[n].dayofyear -1 # Create an index to call doy_mean\n",
    "    #print(n, doy_mean[doyi])\n",
    "    anomalies.append(day - doy_mean[doyi])"
   ]
  },
  {
   "cell_type": "code",
   "execution_count": null,
   "metadata": {
    "collapsed": false
   },
   "outputs": [],
   "source": [
    "anomalies"
   ]
  },
  {
   "cell_type": "markdown",
   "metadata": {},
   "source": [
    "Correlation Matrix"
   ]
  },
  {
   "cell_type": "code",
   "execution_count": null,
   "metadata": {
    "collapsed": false
   },
   "outputs": [],
   "source": [
    "corr_matrix = df_prcp\n",
    "corr_matrix.corr(method='pearson', min_periods=1)"
   ]
  },
  {
   "cell_type": "markdown",
   "metadata": {},
   "source": [
    "calculate the percentiles"
   ]
  },
  {
   "cell_type": "code",
   "execution_count": null,
   "metadata": {
    "collapsed": false
   },
   "outputs": [],
   "source": [
    "def percentile(df, percentile):\n",
    "   # size = len(df_prcp)\n",
    "     \n",
    "    p90 = []\n",
    "    p95 = []\n",
    "    p99 = [] \n",
    "    for day in df_prcp.index:\n",
    "        tmp = np.array([df_prcp[key][day] for key in df_prcp.keys()])\n",
    "        p90.append(np.percentile(tmp,90))    # ...find the nth percentile uncertainty values \n",
    "        p95.append(np.percentile(tmp,95)) \n",
    "        p99.append(np.percentile(tmp,99)) \n",
    "        \n",
    "        \n",
    "        return p90, p95, p99"
   ]
  },
  {
   "cell_type": "code",
   "execution_count": null,
   "metadata": {
    "collapsed": false
   },
   "outputs": [],
   "source": [
    "#from scipy.stats import scoreatpercentile\n",
    "# percentiles of interest\n",
    "#tmp = np.array([df_prcp[key][day] for key in df_prcp.keys()])\n",
    "#perc = [min(tmp), scoreatpercentile(tmp,10), scoreatpercentile(tmp,25),\n",
    "              # scoreatpercentile(tmp,50), scoreatpercentile(tmp,75),\n",
    "               #scoreatpercentile(tmp,90), max(tmp)]\n"
   ]
  },
  {
   "cell_type": "code",
   "execution_count": null,
   "metadata": {
    "collapsed": false
   },
   "outputs": [],
   "source": [
    "a = [154, 400, 1124, 82, 94, 108]\n",
    "print (np.percentile(a,95)) # gives the 95th percentile"
   ]
  },
  {
   "cell_type": "code",
   "execution_count": null,
   "metadata": {
    "collapsed": true
   },
   "outputs": [],
   "source": []
  }
 ],
 "metadata": {
  "kernelspec": {
   "display_name": "Python 2",
   "language": "python",
   "name": "python2"
  },
  "language_info": {
   "codemirror_mode": {
    "name": "ipython",
    "version": 2
   },
   "file_extension": ".py",
   "mimetype": "text/x-python",
   "name": "python",
   "nbconvert_exporter": "python",
   "pygments_lexer": "ipython2",
   "version": "2.7.10"
  }
 },
 "nbformat": 4,
 "nbformat_minor": 0
}
