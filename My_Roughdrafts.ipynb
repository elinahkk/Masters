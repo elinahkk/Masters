{
 "cells": [
  {
   "cell_type": "code",
   "execution_count": null,
   "metadata": {
    "collapsed": true
   },
   "outputs": [],
   "source": [
    "from __future__ import print_function\n",
    "import numpy as np\n",
    "import pandas as pd\n",
    "import matplotlib.pyplot as plt\n",
    "import seaborn as sns\n",
    "import os\n",
    "import glob\n",
    "%matplotlib inline"
   ]
  },
  {
   "cell_type": "code",
   "execution_count": null,
   "metadata": {
    "collapsed": false
   },
   "outputs": [],
   "source": [
    "def get_date(date_number):\n",
    "    dstring = str(date_number)\n",
    "    return pd.datetime(int(dstring[0:4]),int(dstring[4:6]),int(dstring[6:8]))\n",
    "\n",
    "\n",
    "def read_precip(fpath, prcp):\n",
    "    print(fpath)\n",
    "    for file in glob.glob(fpath):\n",
    "        data_in = pd.read_csv(file)\n",
    "        print(data_in.STATION_NAME[0])\n",
    "        prcp[data_in.STATION_NAME[0]] = data_in.PRCP \n",
    "        get_date(data_in.DATE[0])\n",
    "        dates = [get_date(day) for day in data_in.DATE]\n",
    "        \n",
    "    return pd.DataFrame(prcp)#, dates)"
   ]
  },
  {
   "cell_type": "code",
   "execution_count": null,
   "metadata": {
    "collapsed": false
   },
   "outputs": [],
   "source": [
    " #for name in glob.glob('Data/*'):\n",
    "#  print (name)  "
   ]
  },
  {
   "cell_type": "code",
   "execution_count": null,
   "metadata": {
    "collapsed": false,
    "scrolled": true
   },
   "outputs": [],
   "source": [
    "pd.set_option('display.column_space', 25)\n",
    "prcp={}\n",
    "df = read_precip(fpath=\"Data/*\", prcp=prcp)"
   ]
  },
  {
   "cell_type": "code",
   "execution_count": null,
   "metadata": {
    "collapsed": false,
    "scrolled": false
   },
   "outputs": [],
   "source": [
    "df.describe()"
   ]
  },
  {
   "cell_type": "code",
   "execution_count": null,
   "metadata": {
    "collapsed": false
   },
   "outputs": [],
   "source": [
    "df.columns"
   ]
  },
  {
   "cell_type": "code",
   "execution_count": null,
   "metadata": {
    "collapsed": false
   },
   "outputs": [],
   "source": [
    "#Results = pd.concat([df[column] for column in df.columns()],axis=1)\n",
    "Results =pd.concat([df['ADDIS ABABA BOLE ET'], df['DAR ES SALAAM AIRPORT TZ'], df['DIREDAWA ET'], df['DODOMA TZ'], df['ELDORET INTERNATIONAL KE'], df['GARISSA KE'], df['GONDAR ET'], df['GORE ET'], df['JIMMA ET'], df['JOMO KENYATTA INTERNATIONAL KE'], df['JUBA OD'], df['KIGALI INTERNATIONAL RW'],df['KITALE KE'], df['LODWAR KE'], df['MALINDI KE'], df['MANDERA KE'], df['MOMBASA KE'], df['MOYALE KE'], df['MWANZA TZ'], df['NAIROBI DAGORETTI KE'], df['TABORA AIRPORT TZ']], axis=1)\n",
    "Results.head()"
   ]
  },
  {
   "cell_type": "code",
   "execution_count": null,
   "metadata": {
    "collapsed": false
   },
   "outputs": [],
   "source": [
    "### why are they displaying as NaN when they are not Missing Numbers ????????\n",
    "Results.tail()"
   ]
  },
  {
   "cell_type": "code",
   "execution_count": null,
   "metadata": {
    "collapsed": false
   },
   "outputs": [],
   "source": [
    "mask = Results != -9999\n",
    "plt.plot(Results.index, Results[mask].values)\n",
    "plt.ylabel(r\"$\\frac{1}{10}$mm day$^{-1}$\")\n",
    "plt.xlabel(r\"Days\")\n",
    "plt.legend(df.columns)\n",
    "plt.title('GHCN EAST AFRICA DAILY RAINFALL TOTALS', fontsize=18)"
   ]
  },
  {
   "cell_type": "code",
   "execution_count": null,
   "metadata": {
    "collapsed": false
   },
   "outputs": [],
   "source": [
    "#df.dtypes"
   ]
  },
  {
   "cell_type": "code",
   "execution_count": null,
   "metadata": {
    "collapsed": true
   },
   "outputs": [],
   "source": []
  }
 ],
 "metadata": {
  "kernelspec": {
   "display_name": "Python 2",
   "language": "python",
   "name": "python2"
  },
  "language_info": {
   "codemirror_mode": {
    "name": "ipython",
    "version": 2
   },
   "file_extension": ".py",
   "mimetype": "text/x-python",
   "name": "python",
   "nbconvert_exporter": "python",
   "pygments_lexer": "ipython2",
   "version": "2.7.10"
  }
 },
 "nbformat": 4,
 "nbformat_minor": 0
}
